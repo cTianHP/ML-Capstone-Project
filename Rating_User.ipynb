{
  "nbformat": 4,
  "nbformat_minor": 0,
  "metadata": {
    "colab": {
      "provenance": []
    },
    "kernelspec": {
      "name": "python3",
      "display_name": "Python 3"
    },
    "language_info": {
      "name": "python"
    }
  },
  "cells": [
    {
      "cell_type": "code",
      "execution_count": 2,
      "metadata": {
        "colab": {
          "base_uri": "https://localhost:8080/"
        },
        "id": "3cL-NIGp8TbM",
        "outputId": "668585f0-55f9-45b5-93bb-62541b2efb87"
      },
      "outputs": [
        {
          "output_type": "stream",
          "name": "stdout",
          "text": [
            "Drive already mounted at /content/drive; to attempt to forcibly remount, call drive.mount(\"/content/drive\", force_remount=True).\n"
          ]
        }
      ],
      "source": [
        "from google.colab import drive\n",
        "import pandas as pd\n",
        "import os\n",
        "\n",
        "drive.mount('/content/drive')\n",
        "directory = '/content/drive/MyDrive/Raw Data'\n",
        "\n",
        "for filename in os.listdir(directory):\n",
        "    if filename.endswith('.xlsx'):\n",
        "        file_path = os.path.join(directory, filename)\n",
        "\n",
        "        df = pd.read_excel(file_path)\n",
        "\n",
        "        df = df.dropna(subset=['username'])\n",
        "\n",
        "        df['rating'] = 0\n",
        "        for index, row in df.iterrows():\n",
        "            rating_count = 0\n",
        "            for col in ['bintang1', 'bintang2', 'bintang3', 'bintang4', 'bintang5']:\n",
        "                if row[col] == 'https://maps.gstatic.com/consumer/images/icons/2x/ic_star_rate_14.png':\n",
        "                    rating_count += 1\n",
        "\n",
        "            df.at[index, 'rating'] = rating_count\n",
        "\n",
        "        df = df[['id', 'username', 'rating']]\n",
        "\n",
        "        file_name = os.path.splitext(filename)[0]\n",
        "\n",
        "        df_copy = df.copy()\n",
        "\n",
        "        df_copy.rename(columns={'rating': file_name}, inplace=True)\n",
        "\n",
        "        output_file_name = 'User Rating_' + file_name + '.xlsx'\n",
        "        output_file_path = os.path.join(directory, 'User Rating', output_file_name)\n",
        "\n",
        "        df_copy.to_excel(output_file_path, index=False)\n"
      ]
    }
  ]
}