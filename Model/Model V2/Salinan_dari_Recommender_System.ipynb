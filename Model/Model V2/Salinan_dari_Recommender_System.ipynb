{
  "cells": [
    {
      "cell_type": "code",
      "execution_count": 448,
      "metadata": {
        "id": "ppE_Dd91HfPU"
      },
      "outputs": [],
      "source": [
        "import pandas as pd\n",
        "import numpy as np\n",
        "\n",
        "import seaborn as sns\n",
        "import matplotlib.pyplot as plt\n",
        "\n",
        "%matplotlib inline\n",
        "\n",
        "import tensorflow as tf\n",
        "from tensorflow import keras\n",
        "from tensorflow.keras import layers\n",
        "\n",
        "import os"
      ]
    },
    {
      "cell_type": "code",
      "execution_count": 449,
      "metadata": {
        "colab": {
          "base_uri": "https://localhost:8080/",
          "height": 363
        },
        "id": "Mat6bVKbJT1U",
        "outputId": "5a08c707-f216-463b-ee73-70276b513fcc"
      },
      "outputs": [
        {
          "data": {
            "text/html": [
              "<div>\n",
              "<style scoped>\n",
              "    .dataframe tbody tr th:only-of-type {\n",
              "        vertical-align: middle;\n",
              "    }\n",
              "\n",
              "    .dataframe tbody tr th {\n",
              "        vertical-align: top;\n",
              "    }\n",
              "\n",
              "    .dataframe thead th {\n",
              "        text-align: right;\n",
              "    }\n",
              "</style>\n",
              "<table border=\"1\" class=\"dataframe\">\n",
              "  <thead>\n",
              "    <tr style=\"text-align: right;\">\n",
              "      <th></th>\n",
              "      <th>place_id</th>\n",
              "      <th>name</th>\n",
              "      <th>category</th>\n",
              "      <th>latitude</th>\n",
              "      <th>longitude</th>\n",
              "      <th>rating</th>\n",
              "      <th>reviews_count</th>\n",
              "    </tr>\n",
              "  </thead>\n",
              "  <tbody>\n",
              "    <tr>\n",
              "      <th>0</th>\n",
              "      <td>1</td>\n",
              "      <td>4 Brahma Statue Arts</td>\n",
              "      <td>Patung</td>\n",
              "      <td>-7.247284</td>\n",
              "      <td>112.801081</td>\n",
              "      <td>4.3</td>\n",
              "      <td>681</td>\n",
              "    </tr>\n",
              "    <tr>\n",
              "      <th>1</th>\n",
              "      <td>2</td>\n",
              "      <td>Adventure Land Romokalisari</td>\n",
              "      <td>Tujuan Wisata</td>\n",
              "      <td>-7.198610</td>\n",
              "      <td>112.664771</td>\n",
              "      <td>4.6</td>\n",
              "      <td>604</td>\n",
              "    </tr>\n",
              "    <tr>\n",
              "      <th>2</th>\n",
              "      <td>3</td>\n",
              "      <td>Alun - Alun Surabaya</td>\n",
              "      <td>Tujuan Wisata</td>\n",
              "      <td>-7.263864</td>\n",
              "      <td>112.745306</td>\n",
              "      <td>4.8</td>\n",
              "      <td>8470</td>\n",
              "    </tr>\n",
              "    <tr>\n",
              "      <th>3</th>\n",
              "      <td>4</td>\n",
              "      <td>Apsari Park</td>\n",
              "      <td>Taman</td>\n",
              "      <td>-7.263635</td>\n",
              "      <td>112.742562</td>\n",
              "      <td>4.6</td>\n",
              "      <td>7116</td>\n",
              "    </tr>\n",
              "    <tr>\n",
              "      <th>4</th>\n",
              "      <td>5</td>\n",
              "      <td>Arca Joko Dolog</td>\n",
              "      <td>Bangunan Bersejarah</td>\n",
              "      <td>-7.264916</td>\n",
              "      <td>112.742777</td>\n",
              "      <td>4.6</td>\n",
              "      <td>925</td>\n",
              "    </tr>\n",
              "    <tr>\n",
              "      <th>5</th>\n",
              "      <td>6</td>\n",
              "      <td>Benteng Kedung Cowek</td>\n",
              "      <td>Bangunan Bersejarah</td>\n",
              "      <td>-7.211604</td>\n",
              "      <td>112.781074</td>\n",
              "      <td>4.5</td>\n",
              "      <td>799</td>\n",
              "    </tr>\n",
              "    <tr>\n",
              "      <th>6</th>\n",
              "      <td>7</td>\n",
              "      <td>Blockbuster Museum Surabaya</td>\n",
              "      <td>Museum</td>\n",
              "      <td>-7.247754</td>\n",
              "      <td>112.779573</td>\n",
              "      <td>4.7</td>\n",
              "      <td>546</td>\n",
              "    </tr>\n",
              "    <tr>\n",
              "      <th>7</th>\n",
              "      <td>8</td>\n",
              "      <td>Bungkul Park</td>\n",
              "      <td>Taman Kota</td>\n",
              "      <td>-7.291347</td>\n",
              "      <td>112.739822</td>\n",
              "      <td>4.6</td>\n",
              "      <td>54683</td>\n",
              "    </tr>\n",
              "    <tr>\n",
              "      <th>8</th>\n",
              "      <td>9</td>\n",
              "      <td>Cultural Hall</td>\n",
              "      <td>Gedung Konser</td>\n",
              "      <td>-7.264086</td>\n",
              "      <td>112.745432</td>\n",
              "      <td>4.8</td>\n",
              "      <td>488</td>\n",
              "    </tr>\n",
              "    <tr>\n",
              "      <th>9</th>\n",
              "      <td>10</td>\n",
              "      <td>Danau Angsa Pakuwon City</td>\n",
              "      <td>Taman</td>\n",
              "      <td>-7.272880</td>\n",
              "      <td>112.806698</td>\n",
              "      <td>4.4</td>\n",
              "      <td>915</td>\n",
              "    </tr>\n",
              "  </tbody>\n",
              "</table>\n",
              "</div>"
            ],
            "text/plain": [
              "   place_id                         name             category  latitude  \\\n",
              "0         1         4 Brahma Statue Arts               Patung -7.247284   \n",
              "1         2  Adventure Land Romokalisari        Tujuan Wisata -7.198610   \n",
              "2         3         Alun - Alun Surabaya        Tujuan Wisata -7.263864   \n",
              "3         4                  Apsari Park                Taman -7.263635   \n",
              "4         5              Arca Joko Dolog  Bangunan Bersejarah -7.264916   \n",
              "5         6         Benteng Kedung Cowek  Bangunan Bersejarah -7.211604   \n",
              "6         7  Blockbuster Museum Surabaya               Museum -7.247754   \n",
              "7         8                 Bungkul Park           Taman Kota -7.291347   \n",
              "8         9                Cultural Hall        Gedung Konser -7.264086   \n",
              "9        10     Danau Angsa Pakuwon City                Taman -7.272880   \n",
              "\n",
              "    longitude  rating  reviews_count  \n",
              "0  112.801081     4.3            681  \n",
              "1  112.664771     4.6            604  \n",
              "2  112.745306     4.8           8470  \n",
              "3  112.742562     4.6           7116  \n",
              "4  112.742777     4.6            925  \n",
              "5  112.781074     4.5            799  \n",
              "6  112.779573     4.7            546  \n",
              "7  112.739822     4.6          54683  \n",
              "8  112.745432     4.8            488  \n",
              "9  112.806698     4.4            915  "
            ]
          },
          "execution_count": 449,
          "metadata": {},
          "output_type": "execute_result"
        }
      ],
      "source": [
        "tourist_attraction = pd.read_excel('Tourist Attraction_List.xlsx')\n",
        "tourist_attraction.head(10)"
      ]
    },
    {
      "cell_type": "code",
      "execution_count": 450,
      "metadata": {
        "colab": {
          "base_uri": "https://localhost:8080/"
        },
        "id": "ifYEjXPEJyHJ",
        "outputId": "699399c4-b20c-4860-9e03-349abdac422d"
      },
      "outputs": [
        {
          "data": {
            "text/plain": [
              "place_id         0\n",
              "name             0\n",
              "category         0\n",
              "latitude         0\n",
              "longitude        0\n",
              "rating           0\n",
              "reviews_count    0\n",
              "dtype: int64"
            ]
          },
          "execution_count": 450,
          "metadata": {},
          "output_type": "execute_result"
        }
      ],
      "source": [
        "tourist_attraction.isna().sum()"
      ]
    },
    {
      "cell_type": "code",
      "execution_count": 451,
      "metadata": {
        "colab": {
          "base_uri": "https://localhost:8080/"
        },
        "id": "_1aFyB0OJ4wX",
        "outputId": "a7ca417e-f59f-489b-9e57-64421145a268"
      },
      "outputs": [
        {
          "name": "stdout",
          "output_type": "stream",
          "text": [
            "<class 'pandas.core.frame.DataFrame'>\n",
            "RangeIndex: 75 entries, 0 to 74\n",
            "Data columns (total 7 columns):\n",
            " #   Column         Non-Null Count  Dtype  \n",
            "---  ------         --------------  -----  \n",
            " 0   place_id       75 non-null     int64  \n",
            " 1   name           75 non-null     object \n",
            " 2   category       75 non-null     object \n",
            " 3   latitude       75 non-null     float64\n",
            " 4   longitude      75 non-null     float64\n",
            " 5   rating         75 non-null     float64\n",
            " 6   reviews_count  75 non-null     int64  \n",
            "dtypes: float64(3), int64(2), object(2)\n",
            "memory usage: 4.2+ KB\n"
          ]
        }
      ],
      "source": [
        "tourist_attraction.info()"
      ]
    },
    {
      "cell_type": "code",
      "execution_count": 452,
      "metadata": {
        "colab": {
          "base_uri": "https://localhost:8080/",
          "height": 363
        },
        "id": "X0eMlgDwKH8D",
        "outputId": "0857c77a-9ce8-443e-f6d1-c81524864194"
      },
      "outputs": [
        {
          "data": {
            "text/html": [
              "<div>\n",
              "<style scoped>\n",
              "    .dataframe tbody tr th:only-of-type {\n",
              "        vertical-align: middle;\n",
              "    }\n",
              "\n",
              "    .dataframe tbody tr th {\n",
              "        vertical-align: top;\n",
              "    }\n",
              "\n",
              "    .dataframe thead th {\n",
              "        text-align: right;\n",
              "    }\n",
              "</style>\n",
              "<table border=\"1\" class=\"dataframe\">\n",
              "  <thead>\n",
              "    <tr style=\"text-align: right;\">\n",
              "      <th></th>\n",
              "      <th>user_id</th>\n",
              "      <th>place_id</th>\n",
              "      <th>rating</th>\n",
              "    </tr>\n",
              "  </thead>\n",
              "  <tbody>\n",
              "    <tr>\n",
              "      <th>0</th>\n",
              "      <td>5</td>\n",
              "      <td>1</td>\n",
              "      <td>4</td>\n",
              "    </tr>\n",
              "    <tr>\n",
              "      <th>1</th>\n",
              "      <td>5</td>\n",
              "      <td>12</td>\n",
              "      <td>5</td>\n",
              "    </tr>\n",
              "    <tr>\n",
              "      <th>2</th>\n",
              "      <td>5</td>\n",
              "      <td>19</td>\n",
              "      <td>4</td>\n",
              "    </tr>\n",
              "    <tr>\n",
              "      <th>3</th>\n",
              "      <td>5</td>\n",
              "      <td>45</td>\n",
              "      <td>5</td>\n",
              "    </tr>\n",
              "    <tr>\n",
              "      <th>4</th>\n",
              "      <td>5</td>\n",
              "      <td>62</td>\n",
              "      <td>4</td>\n",
              "    </tr>\n",
              "    <tr>\n",
              "      <th>5</th>\n",
              "      <td>6</td>\n",
              "      <td>1</td>\n",
              "      <td>5</td>\n",
              "    </tr>\n",
              "    <tr>\n",
              "      <th>6</th>\n",
              "      <td>6</td>\n",
              "      <td>20</td>\n",
              "      <td>5</td>\n",
              "    </tr>\n",
              "    <tr>\n",
              "      <th>7</th>\n",
              "      <td>6</td>\n",
              "      <td>24</td>\n",
              "      <td>5</td>\n",
              "    </tr>\n",
              "    <tr>\n",
              "      <th>8</th>\n",
              "      <td>6</td>\n",
              "      <td>27</td>\n",
              "      <td>4</td>\n",
              "    </tr>\n",
              "    <tr>\n",
              "      <th>9</th>\n",
              "      <td>6</td>\n",
              "      <td>63</td>\n",
              "      <td>4</td>\n",
              "    </tr>\n",
              "  </tbody>\n",
              "</table>\n",
              "</div>"
            ],
            "text/plain": [
              "   user_id  place_id  rating\n",
              "0        5         1       4\n",
              "1        5        12       5\n",
              "2        5        19       4\n",
              "3        5        45       5\n",
              "4        5        62       4\n",
              "5        6         1       5\n",
              "6        6        20       5\n",
              "7        6        24       5\n",
              "8        6        27       4\n",
              "9        6        63       4"
            ]
          },
          "execution_count": 452,
          "metadata": {},
          "output_type": "execute_result"
        }
      ],
      "source": [
        "user_rating = pd.read_excel('Transformed User Rating Tempat Wisata.xlsx')\n",
        "user_rating.head(10)"
      ]
    },
    {
      "cell_type": "code",
      "execution_count": 453,
      "metadata": {
        "colab": {
          "base_uri": "https://localhost:8080/"
        },
        "id": "feeTnJ1mKZnG",
        "outputId": "2797391e-6978-43e6-de2b-65e4f35f2255"
      },
      "outputs": [
        {
          "data": {
            "text/plain": [
              "user_id     0\n",
              "place_id    0\n",
              "rating      0\n",
              "dtype: int64"
            ]
          },
          "execution_count": 453,
          "metadata": {},
          "output_type": "execute_result"
        }
      ],
      "source": [
        "user_rating.isna().sum()"
      ]
    },
    {
      "cell_type": "code",
      "execution_count": 454,
      "metadata": {
        "colab": {
          "base_uri": "https://localhost:8080/"
        },
        "id": "PN7p1m_3Kf3b",
        "outputId": "0a331051-db74-4512-b335-a34ee3d133ac"
      },
      "outputs": [
        {
          "name": "stdout",
          "output_type": "stream",
          "text": [
            "<class 'pandas.core.frame.DataFrame'>\n",
            "RangeIndex: 7417 entries, 0 to 7416\n",
            "Data columns (total 3 columns):\n",
            " #   Column    Non-Null Count  Dtype\n",
            "---  ------    --------------  -----\n",
            " 0   user_id   7417 non-null   int64\n",
            " 1   place_id  7417 non-null   int64\n",
            " 2   rating    7417 non-null   int64\n",
            "dtypes: int64(3)\n",
            "memory usage: 174.0 KB\n"
          ]
        }
      ],
      "source": [
        "user_rating.info()"
      ]
    },
    {
      "cell_type": "code",
      "execution_count": 455,
      "metadata": {
        "colab": {
          "base_uri": "https://localhost:8080/",
          "height": 424
        },
        "id": "9gai_bcrKkXs",
        "outputId": "ced69242-9c4e-4401-cab1-a3a74301500f"
      },
      "outputs": [
        {
          "data": {
            "text/html": [
              "<div>\n",
              "<style scoped>\n",
              "    .dataframe tbody tr th:only-of-type {\n",
              "        vertical-align: middle;\n",
              "    }\n",
              "\n",
              "    .dataframe tbody tr th {\n",
              "        vertical-align: top;\n",
              "    }\n",
              "\n",
              "    .dataframe thead th {\n",
              "        text-align: right;\n",
              "    }\n",
              "</style>\n",
              "<table border=\"1\" class=\"dataframe\">\n",
              "  <thead>\n",
              "    <tr style=\"text-align: right;\">\n",
              "      <th></th>\n",
              "      <th>place_id</th>\n",
              "      <th>count</th>\n",
              "    </tr>\n",
              "  </thead>\n",
              "  <tbody>\n",
              "    <tr>\n",
              "      <th>0</th>\n",
              "      <td>56</td>\n",
              "      <td>331</td>\n",
              "    </tr>\n",
              "    <tr>\n",
              "      <th>1</th>\n",
              "      <td>68</td>\n",
              "      <td>289</td>\n",
              "    </tr>\n",
              "    <tr>\n",
              "      <th>2</th>\n",
              "      <td>57</td>\n",
              "      <td>285</td>\n",
              "    </tr>\n",
              "    <tr>\n",
              "      <th>3</th>\n",
              "      <td>28</td>\n",
              "      <td>281</td>\n",
              "    </tr>\n",
              "    <tr>\n",
              "      <th>4</th>\n",
              "      <td>20</td>\n",
              "      <td>262</td>\n",
              "    </tr>\n",
              "    <tr>\n",
              "      <th>...</th>\n",
              "      <td>...</td>\n",
              "      <td>...</td>\n",
              "    </tr>\n",
              "    <tr>\n",
              "      <th>70</th>\n",
              "      <td>67</td>\n",
              "      <td>4</td>\n",
              "    </tr>\n",
              "    <tr>\n",
              "      <th>71</th>\n",
              "      <td>37</td>\n",
              "      <td>2</td>\n",
              "    </tr>\n",
              "    <tr>\n",
              "      <th>72</th>\n",
              "      <td>55</td>\n",
              "      <td>1</td>\n",
              "    </tr>\n",
              "    <tr>\n",
              "      <th>73</th>\n",
              "      <td>21</td>\n",
              "      <td>1</td>\n",
              "    </tr>\n",
              "    <tr>\n",
              "      <th>74</th>\n",
              "      <td>39</td>\n",
              "      <td>1</td>\n",
              "    </tr>\n",
              "  </tbody>\n",
              "</table>\n",
              "<p>75 rows × 2 columns</p>\n",
              "</div>"
            ],
            "text/plain": [
              "    place_id  count\n",
              "0         56    331\n",
              "1         68    289\n",
              "2         57    285\n",
              "3         28    281\n",
              "4         20    262\n",
              "..       ...    ...\n",
              "70        67      4\n",
              "71        37      2\n",
              "72        55      1\n",
              "73        21      1\n",
              "74        39      1\n",
              "\n",
              "[75 rows x 2 columns]"
            ]
          },
          "execution_count": 455,
          "metadata": {},
          "output_type": "execute_result"
        }
      ],
      "source": [
        "place_rank = user_rating['place_id'].value_counts().reset_index()\n",
        "place_rank\n"
      ]
    },
    {
      "cell_type": "code",
      "execution_count": 456,
      "metadata": {
        "colab": {
          "base_uri": "https://localhost:8080/",
          "height": 206
        },
        "id": "rJjnGuKXV6Ug",
        "outputId": "9b9aff9b-c5c7-481e-f6c7-8c34d146aa37"
      },
      "outputs": [
        {
          "data": {
            "text/html": [
              "<div>\n",
              "<style scoped>\n",
              "    .dataframe tbody tr th:only-of-type {\n",
              "        vertical-align: middle;\n",
              "    }\n",
              "\n",
              "    .dataframe tbody tr th {\n",
              "        vertical-align: top;\n",
              "    }\n",
              "\n",
              "    .dataframe thead th {\n",
              "        text-align: right;\n",
              "    }\n",
              "</style>\n",
              "<table border=\"1\" class=\"dataframe\">\n",
              "  <thead>\n",
              "    <tr style=\"text-align: right;\">\n",
              "      <th></th>\n",
              "      <th>user_id</th>\n",
              "      <th>place_id</th>\n",
              "      <th>rating</th>\n",
              "    </tr>\n",
              "  </thead>\n",
              "  <tbody>\n",
              "    <tr>\n",
              "      <th>0</th>\n",
              "      <td>5</td>\n",
              "      <td>1</td>\n",
              "      <td>4</td>\n",
              "    </tr>\n",
              "    <tr>\n",
              "      <th>1</th>\n",
              "      <td>5</td>\n",
              "      <td>12</td>\n",
              "      <td>5</td>\n",
              "    </tr>\n",
              "    <tr>\n",
              "      <th>2</th>\n",
              "      <td>5</td>\n",
              "      <td>19</td>\n",
              "      <td>4</td>\n",
              "    </tr>\n",
              "    <tr>\n",
              "      <th>3</th>\n",
              "      <td>5</td>\n",
              "      <td>45</td>\n",
              "      <td>5</td>\n",
              "    </tr>\n",
              "    <tr>\n",
              "      <th>4</th>\n",
              "      <td>5</td>\n",
              "      <td>62</td>\n",
              "      <td>4</td>\n",
              "    </tr>\n",
              "  </tbody>\n",
              "</table>\n",
              "</div>"
            ],
            "text/plain": [
              "   user_id  place_id  rating\n",
              "0        5         1       4\n",
              "1        5        12       5\n",
              "2        5        19       4\n",
              "3        5        45       5\n",
              "4        5        62       4"
            ]
          },
          "execution_count": 456,
          "metadata": {},
          "output_type": "execute_result"
        }
      ],
      "source": [
        "df = user_rating.copy()\n",
        "df.head()"
      ]
    },
    {
      "cell_type": "code",
      "execution_count": 457,
      "metadata": {
        "id": "PIlgQNFIVmz7"
      },
      "outputs": [],
      "source": [
        "def dict_encoder(col, data=df):\n",
        "\n",
        "  unique_val = data[col].unique().tolist()\n",
        "\n",
        "  val_to_val_encoded = {x: i for i, x in enumerate(unique_val)}\n",
        "\n",
        "  val_encoded_to_val = {i: x for i, x in enumerate(unique_val)}\n",
        "  return val_to_val_encoded, val_encoded_to_val"
      ]
    },
    {
      "cell_type": "code",
      "execution_count": 458,
      "metadata": {
        "id": "_YWpHNCZVzyq"
      },
      "outputs": [],
      "source": [
        "user_to_user_encoded, user_encoded_to_user = dict_encoder('user_id')\n",
        "\n",
        "df['user'] = df['user_id'].map(user_to_user_encoded)"
      ]
    },
    {
      "cell_type": "code",
      "execution_count": 459,
      "metadata": {
        "id": "4-4uQGS6WUSo"
      },
      "outputs": [],
      "source": [
        "place_to_place_encoded, place_encoded_to_place = dict_encoder('place_id')\n",
        "\n",
        "df['place'] = df['place_id'].map(place_to_place_encoded)"
      ]
    },
    {
      "cell_type": "code",
      "execution_count": 460,
      "metadata": {
        "colab": {
          "base_uri": "https://localhost:8080/",
          "height": 424
        },
        "id": "5B5zWygbWhSf",
        "outputId": "a447d272-28fa-4465-e5bb-b27a1ff91ca0"
      },
      "outputs": [
        {
          "data": {
            "text/html": [
              "<div>\n",
              "<style scoped>\n",
              "    .dataframe tbody tr th:only-of-type {\n",
              "        vertical-align: middle;\n",
              "    }\n",
              "\n",
              "    .dataframe tbody tr th {\n",
              "        vertical-align: top;\n",
              "    }\n",
              "\n",
              "    .dataframe thead th {\n",
              "        text-align: right;\n",
              "    }\n",
              "</style>\n",
              "<table border=\"1\" class=\"dataframe\">\n",
              "  <thead>\n",
              "    <tr style=\"text-align: right;\">\n",
              "      <th></th>\n",
              "      <th>user_id</th>\n",
              "      <th>place_id</th>\n",
              "      <th>rating</th>\n",
              "      <th>user</th>\n",
              "      <th>place</th>\n",
              "    </tr>\n",
              "  </thead>\n",
              "  <tbody>\n",
              "    <tr>\n",
              "      <th>0</th>\n",
              "      <td>5</td>\n",
              "      <td>1</td>\n",
              "      <td>4</td>\n",
              "      <td>0</td>\n",
              "      <td>0</td>\n",
              "    </tr>\n",
              "    <tr>\n",
              "      <th>1</th>\n",
              "      <td>5</td>\n",
              "      <td>12</td>\n",
              "      <td>5</td>\n",
              "      <td>0</td>\n",
              "      <td>1</td>\n",
              "    </tr>\n",
              "    <tr>\n",
              "      <th>2</th>\n",
              "      <td>5</td>\n",
              "      <td>19</td>\n",
              "      <td>4</td>\n",
              "      <td>0</td>\n",
              "      <td>2</td>\n",
              "    </tr>\n",
              "    <tr>\n",
              "      <th>3</th>\n",
              "      <td>5</td>\n",
              "      <td>45</td>\n",
              "      <td>5</td>\n",
              "      <td>0</td>\n",
              "      <td>3</td>\n",
              "    </tr>\n",
              "    <tr>\n",
              "      <th>4</th>\n",
              "      <td>5</td>\n",
              "      <td>62</td>\n",
              "      <td>4</td>\n",
              "      <td>0</td>\n",
              "      <td>4</td>\n",
              "    </tr>\n",
              "    <tr>\n",
              "      <th>...</th>\n",
              "      <td>...</td>\n",
              "      <td>...</td>\n",
              "      <td>...</td>\n",
              "      <td>...</td>\n",
              "      <td>...</td>\n",
              "    </tr>\n",
              "    <tr>\n",
              "      <th>7412</th>\n",
              "      <td>88129</td>\n",
              "      <td>75</td>\n",
              "      <td>3</td>\n",
              "      <td>1483</td>\n",
              "      <td>20</td>\n",
              "    </tr>\n",
              "    <tr>\n",
              "      <th>7413</th>\n",
              "      <td>88321</td>\n",
              "      <td>64</td>\n",
              "      <td>1</td>\n",
              "      <td>1484</td>\n",
              "      <td>25</td>\n",
              "    </tr>\n",
              "    <tr>\n",
              "      <th>7414</th>\n",
              "      <td>88321</td>\n",
              "      <td>68</td>\n",
              "      <td>4</td>\n",
              "      <td>1484</td>\n",
              "      <td>26</td>\n",
              "    </tr>\n",
              "    <tr>\n",
              "      <th>7415</th>\n",
              "      <td>88321</td>\n",
              "      <td>74</td>\n",
              "      <td>3</td>\n",
              "      <td>1484</td>\n",
              "      <td>48</td>\n",
              "    </tr>\n",
              "    <tr>\n",
              "      <th>7416</th>\n",
              "      <td>88321</td>\n",
              "      <td>75</td>\n",
              "      <td>3</td>\n",
              "      <td>1484</td>\n",
              "      <td>20</td>\n",
              "    </tr>\n",
              "  </tbody>\n",
              "</table>\n",
              "<p>7417 rows × 5 columns</p>\n",
              "</div>"
            ],
            "text/plain": [
              "      user_id  place_id  rating  user  place\n",
              "0           5         1       4     0      0\n",
              "1           5        12       5     0      1\n",
              "2           5        19       4     0      2\n",
              "3           5        45       5     0      3\n",
              "4           5        62       4     0      4\n",
              "...       ...       ...     ...   ...    ...\n",
              "7412    88129        75       3  1483     20\n",
              "7413    88321        64       1  1484     25\n",
              "7414    88321        68       4  1484     26\n",
              "7415    88321        74       3  1484     48\n",
              "7416    88321        75       3  1484     20\n",
              "\n",
              "[7417 rows x 5 columns]"
            ]
          },
          "execution_count": 460,
          "metadata": {},
          "output_type": "execute_result"
        }
      ],
      "source": [
        "df"
      ]
    },
    {
      "cell_type": "code",
      "execution_count": 461,
      "metadata": {
        "colab": {
          "base_uri": "https://localhost:8080/"
        },
        "id": "iK5i4KjBWt_X",
        "outputId": "2bd9088f-7c2d-4515-bae1-6e0ab3374da5"
      },
      "outputs": [
        {
          "name": "stdout",
          "output_type": "stream",
          "text": [
            "Number of User: 1485, Number of Place: 75, Min Rating: 1.0, Max Rating: 5.0\n"
          ]
        }
      ],
      "source": [
        "num_users, num_place = len(user_to_user_encoded), len(place_to_place_encoded)\n",
        "\n",
        "df['rating'] = df['rating'].values.astype(np.float32)\n",
        "\n",
        "min_rating, max_rating = min(df['rating']), max(df['rating'])\n",
        "\n",
        "print(f'Number of User: {num_users}, Number of Place: {num_place}, Min Rating: {min_rating}, Max Rating: {max_rating}')"
      ]
    },
    {
      "cell_type": "code",
      "execution_count": 462,
      "metadata": {
        "colab": {
          "base_uri": "https://localhost:8080/",
          "height": 112
        },
        "id": "K-gMKxw7XWND",
        "outputId": "c6d15172-05b8-418d-a0e9-7496870007b1"
      },
      "outputs": [
        {
          "data": {
            "text/html": [
              "<div>\n",
              "<style scoped>\n",
              "    .dataframe tbody tr th:only-of-type {\n",
              "        vertical-align: middle;\n",
              "    }\n",
              "\n",
              "    .dataframe tbody tr th {\n",
              "        vertical-align: top;\n",
              "    }\n",
              "\n",
              "    .dataframe thead th {\n",
              "        text-align: right;\n",
              "    }\n",
              "</style>\n",
              "<table border=\"1\" class=\"dataframe\">\n",
              "  <thead>\n",
              "    <tr style=\"text-align: right;\">\n",
              "      <th></th>\n",
              "      <th>user_id</th>\n",
              "      <th>place_id</th>\n",
              "      <th>rating</th>\n",
              "      <th>user</th>\n",
              "      <th>place</th>\n",
              "    </tr>\n",
              "  </thead>\n",
              "  <tbody>\n",
              "    <tr>\n",
              "      <th>5483</th>\n",
              "      <td>35151</td>\n",
              "      <td>75</td>\n",
              "      <td>5.0</td>\n",
              "      <td>1061</td>\n",
              "      <td>20</td>\n",
              "    </tr>\n",
              "    <tr>\n",
              "      <th>4556</th>\n",
              "      <td>26995</td>\n",
              "      <td>56</td>\n",
              "      <td>5.0</td>\n",
              "      <td>873</td>\n",
              "      <td>24</td>\n",
              "    </tr>\n",
              "  </tbody>\n",
              "</table>\n",
              "</div>"
            ],
            "text/plain": [
              "      user_id  place_id  rating  user  place\n",
              "5483    35151        75     5.0  1061     20\n",
              "4556    26995        56     5.0   873     24"
            ]
          },
          "execution_count": 462,
          "metadata": {},
          "output_type": "execute_result"
        }
      ],
      "source": [
        "df = df.sample(frac=1, random_state=42)\n",
        "df.head(2)"
      ]
    },
    {
      "cell_type": "code",
      "execution_count": 463,
      "metadata": {
        "id": "wiGIWMRaXy4k"
      },
      "outputs": [],
      "source": [
        "x = df[['user', 'place']].values\n",
        "\n",
        "y = df['rating'].apply(lambda x: (x - min_rating) / (max_rating - min_rating)).values\n",
        "\n",
        "train_indices = int(0.8 * df.shape[0])\n",
        "x_train, x_val, y_train, y_val = (\n",
        "    x[:train_indices],\n",
        "    x[train_indices:],\n",
        "    y[:train_indices],\n",
        "    y[train_indices:]\n",
        ")"
      ]
    },
    {
      "cell_type": "code",
      "execution_count": 464,
      "metadata": {
        "id": "3FCCLmNoubdx"
      },
      "outputs": [],
      "source": [
        "x_train_array = [x_train[:, 0], x_train[:, 1]]\n",
        "x_val_array = [x_val[:, 0], x_val[:, 1]]"
      ]
    },
    {
      "cell_type": "code",
      "execution_count": 465,
      "metadata": {
        "colab": {
          "base_uri": "https://localhost:8080/"
        },
        "id": "U_u7jFfCX3tb",
        "outputId": "d692247d-3429-4a22-fdb1-3472f7c66632"
      },
      "outputs": [
        {
          "name": "stdout",
          "output_type": "stream",
          "text": [
            "Epoch 1/1000\n",
            "186/186 [==============================] - 6s 9ms/step - loss: 0.6626 - root_mean_squared_error: 0.3977 - val_loss: 0.6331 - val_root_mean_squared_error: 0.3805\n",
            "Epoch 2/1000\n",
            "186/186 [==============================] - 1s 7ms/step - loss: 0.6084 - root_mean_squared_error: 0.3624 - val_loss: 0.5758 - val_root_mean_squared_error: 0.3416\n",
            "Epoch 3/1000\n",
            "186/186 [==============================] - 2s 10ms/step - loss: 0.5652 - root_mean_squared_error: 0.3322 - val_loss: 0.5637 - val_root_mean_squared_error: 0.3330\n",
            "Epoch 4/1000\n",
            "186/186 [==============================] - 2s 8ms/step - loss: 0.5306 - root_mean_squared_error: 0.3068 - val_loss: 0.5476 - val_root_mean_squared_error: 0.3213\n",
            "Epoch 5/1000\n",
            "186/186 [==============================] - 2s 10ms/step - loss: 0.5034 - root_mean_squared_error: 0.2860 - val_loss: 0.5186 - val_root_mean_squared_error: 0.2997\n",
            "Epoch 6/1000\n",
            "186/186 [==============================] - 2s 10ms/step - loss: 0.4820 - root_mean_squared_error: 0.2694 - val_loss: 0.4482 - val_root_mean_squared_error: 0.2456\n",
            "Epoch 7/1000\n",
            "186/186 [==============================] - 2s 9ms/step - loss: 0.4654 - root_mean_squared_error: 0.2565 - val_loss: 0.4607 - val_root_mean_squared_error: 0.2552\n",
            "Epoch 8/1000\n",
            "186/186 [==============================] - 2s 10ms/step - loss: 0.4527 - root_mean_squared_error: 0.2465 - val_loss: 0.4541 - val_root_mean_squared_error: 0.2501\n",
            "Epoch 9/1000\n",
            "186/186 [==============================] - 2s 10ms/step - loss: 0.4429 - root_mean_squared_error: 0.2391 - val_loss: 0.4506 - val_root_mean_squared_error: 0.2474\n",
            "Epoch 10/1000\n",
            "186/186 [==============================] - 2s 9ms/step - loss: 0.4355 - root_mean_squared_error: 0.2335 - val_loss: 0.4343 - val_root_mean_squared_error: 0.2352\n",
            "Epoch 11/1000\n",
            "186/186 [==============================] - 2s 9ms/step - loss: 0.4302 - root_mean_squared_error: 0.2296 - val_loss: 0.4243 - val_root_mean_squared_error: 0.2281\n",
            "Epoch 12/1000\n",
            "186/186 [==============================] - 2s 10ms/step - loss: 0.4263 - root_mean_squared_error: 0.2269 - val_loss: 0.4209 - val_root_mean_squared_error: 0.2259\n",
            "Epoch 13/1000\n",
            "186/186 [==============================] - 2s 10ms/step - loss: 0.4232 - root_mean_squared_error: 0.2247 - val_loss: 0.4205 - val_root_mean_squared_error: 0.2256\n",
            "Epoch 14/1000\n",
            "186/186 [==============================] - 2s 9ms/step - loss: 0.4209 - root_mean_squared_error: 0.2232 - val_loss: 0.4257 - val_root_mean_squared_error: 0.2291\n",
            "Epoch 15/1000\n",
            "186/186 [==============================] - 2s 10ms/step - loss: 0.4195 - root_mean_squared_error: 0.2224 - val_loss: 0.4173 - val_root_mean_squared_error: 0.2236\n",
            "Epoch 16/1000\n",
            "186/186 [==============================] - 2s 11ms/step - loss: 0.4183 - root_mean_squared_error: 0.2216 - val_loss: 0.4177 - val_root_mean_squared_error: 0.2239\n",
            "Epoch 17/1000\n",
            "186/186 [==============================] - 2s 9ms/step - loss: 0.4178 - root_mean_squared_error: 0.2213 - val_loss: 0.4196 - val_root_mean_squared_error: 0.2250\n",
            "Epoch 18/1000\n",
            "186/186 [==============================] - 2s 9ms/step - loss: 0.4171 - root_mean_squared_error: 0.2210 - val_loss: 0.4183 - val_root_mean_squared_error: 0.2242\n",
            "Epoch 19/1000\n",
            "186/186 [==============================] - 2s 9ms/step - loss: 0.4170 - root_mean_squared_error: 0.2210 - val_loss: 0.4191 - val_root_mean_squared_error: 0.2247\n",
            "Epoch 20/1000\n",
            "186/186 [==============================] - 2s 10ms/step - loss: 0.4168 - root_mean_squared_error: 0.2208 - val_loss: 0.4242 - val_root_mean_squared_error: 0.2281\n"
          ]
        }
      ],
      "source": [
        "def RecommenderSystem_Model():\n",
        "    embedding_size = 32\n",
        "\n",
        "    user = tf.keras.layers.Input(shape = [1])\n",
        "    user_embedding = tf.keras.layers.Embedding(input_dim = num_users, output_dim = embedding_size)(user)\n",
        "\n",
        "    place = tf.keras.layers.Input(shape = [1])\n",
        "    place_embedding = tf.keras.layers.Embedding(input_dim = num_place, output_dim = embedding_size)(place)\n",
        "\n",
        "    x = tf.keras.layers.Dot(name='dot_product', axes=2)([user_embedding, place_embedding])\n",
        "    x = tf.keras.layers.Flatten()(x)\n",
        "    x = tf.keras.layers.Dropout(0.5)(x)\n",
        "    x = tf.keras.layers.Dense(32, activation='relu')(x)\n",
        "    x = tf.keras.layers.Dropout(0.5)(x)\n",
        "    x = tf.keras.layers.Dense(6, activation='relu')(x)\n",
        "    x = tf.keras.layers.Dropout(0.5)(x)\n",
        "    x = tf.keras.layers.Dense(1, kernel_initializer='he_normal')(x)\n",
        "    x = tf.keras.layers.BatchNormalization()(x)\n",
        "    x = tf.keras.layers.Activation(\"sigmoid\")(x)\n",
        "\n",
        "    model = tf.keras.models.Model(inputs=[user, place], outputs=x)\n",
        "\n",
        "    return model\n",
        "\n",
        "model = RecommenderSystem_Model()\n",
        "\n",
        "model.compile(\n",
        "    loss=tf.keras.losses.BinaryCrossentropy(),\n",
        "    optimizer=keras.optimizers.Adam(learning_rate=1e-3),\n",
        "    metrics=[tf.keras.metrics.RootMeanSquaredError()]\n",
        ")\n",
        "\n",
        "early_stopping = tf.keras.callbacks.EarlyStopping(\n",
        "    monitor='val_loss', patience=5, restore_best_weights=True\n",
        ")\n",
        "\n",
        "history = model.fit(\n",
        "    x=x_train_array,\n",
        "    y=y_train,\n",
        "    batch_size=32,\n",
        "    epochs=1000,\n",
        "    verbose=1,\n",
        "    validation_data=(x_val_array, y_val),\n",
        "    callbacks=[early_stopping]\n",
        ")"
      ]
    },
    {
      "cell_type": "code",
      "execution_count": 466,
      "metadata": {
        "colab": {
          "base_uri": "https://localhost:8080/",
          "height": 472
        },
        "id": "giRmJWHmYsXv",
        "outputId": "2ea5a19b-e00b-46ce-c9bf-7590f034fc68"
      },
      "outputs": [
        {
          "data": {
            "image/png": "[encoded data removed]",
            "text/plain": [
              "<Figure size 640x480 with 1 Axes>"
            ]
          },
          "metadata": {},
          "output_type": "display_data"
        }
      ],
      "source": [
        "plt.plot(history.history[\"loss\"])\n",
        "plt.plot(history.history[\"val_loss\"])\n",
        "plt.title(\"model loss\")\n",
        "plt.ylabel(\"loss\")\n",
        "plt.xlabel(\"epoch\")\n",
        "plt.legend([\"train\", \"validation\"], loc=\"upper left\")\n",
        "plt.show()"
      ]
    },
    {
      "cell_type": "code",
      "execution_count": 467,
      "metadata": {
        "colab": {
          "base_uri": "https://localhost:8080/"
        },
        "id": "odp3uv6KVOqy",
        "outputId": "5c55ed26-1898-4a46-a973-0318b2fae3ca"
      },
      "outputs": [
        {
          "name": "stderr",
          "output_type": "stream",
          "text": [
            "c:\\Users\\ASUS\\AppData\\Local\\Programs\\Python\\Python39\\lib\\site-packages\\keras\\src\\engine\\training.py:3000: UserWarning: You are saving your model as an HDF5 file via `model.save()`. This file format is considered legacy. We recommend using instead the native Keras format, e.g. `model.save('my_model.keras')`.\n",
            "  saving_api.save_model(\n"
          ]
        }
      ],
      "source": [
        "model.save('model.h5')"
      ]
    },
    {
      "cell_type": "code",
      "execution_count": 468,
      "metadata": {
        "id": "umTE8a3AzGV0"
      },
      "outputs": [
        {
          "name": "stdout",
          "output_type": "stream",
          "text": [
            "INFO:tensorflow:Assets written to: saved_model\\assets\n"
          ]
        },
        {
          "name": "stderr",
          "output_type": "stream",
          "text": [
            "INFO:tensorflow:Assets written to: saved_model\\assets\n"
          ]
        }
      ],
      "source": [
        "model.save('saved_model', save_format='tf')"
      ]
    },
    {
      "cell_type": "code",
      "execution_count": 469,
      "metadata": {
        "id": "e0aSsZwhYzgg"
      },
      "outputs": [],
      "source": [
        "place_df = tourist_attraction[['place_id','name','category','rating','latitude','longitude']]\n",
        "df = user_rating.copy()"
      ]
    },
    {
      "cell_type": "code",
      "execution_count": 470,
      "metadata": {
        "colab": {
          "base_uri": "https://localhost:8080/",
          "height": 424
        },
        "id": "GXTNxQwqahOr",
        "outputId": "84f836d4-ed6e-4493-c366-9e1514c77aa3"
      },
      "outputs": [
        {
          "data": {
            "text/html": [
              "<div>\n",
              "<style scoped>\n",
              "    .dataframe tbody tr th:only-of-type {\n",
              "        vertical-align: middle;\n",
              "    }\n",
              "\n",
              "    .dataframe tbody tr th {\n",
              "        vertical-align: top;\n",
              "    }\n",
              "\n",
              "    .dataframe thead th {\n",
              "        text-align: right;\n",
              "    }\n",
              "</style>\n",
              "<table border=\"1\" class=\"dataframe\">\n",
              "  <thead>\n",
              "    <tr style=\"text-align: right;\">\n",
              "      <th></th>\n",
              "      <th>place_id</th>\n",
              "      <th>name</th>\n",
              "      <th>category</th>\n",
              "      <th>rating</th>\n",
              "      <th>latitude</th>\n",
              "      <th>longitude</th>\n",
              "    </tr>\n",
              "  </thead>\n",
              "  <tbody>\n",
              "    <tr>\n",
              "      <th>0</th>\n",
              "      <td>1</td>\n",
              "      <td>4 Brahma Statue Arts</td>\n",
              "      <td>Patung</td>\n",
              "      <td>4.3</td>\n",
              "      <td>-7.247284</td>\n",
              "      <td>112.801081</td>\n",
              "    </tr>\n",
              "    <tr>\n",
              "      <th>1</th>\n",
              "      <td>2</td>\n",
              "      <td>Adventure Land Romokalisari</td>\n",
              "      <td>Tujuan Wisata</td>\n",
              "      <td>4.6</td>\n",
              "      <td>-7.198610</td>\n",
              "      <td>112.664771</td>\n",
              "    </tr>\n",
              "    <tr>\n",
              "      <th>2</th>\n",
              "      <td>3</td>\n",
              "      <td>Alun - Alun Surabaya</td>\n",
              "      <td>Tujuan Wisata</td>\n",
              "      <td>4.8</td>\n",
              "      <td>-7.263864</td>\n",
              "      <td>112.745306</td>\n",
              "    </tr>\n",
              "    <tr>\n",
              "      <th>3</th>\n",
              "      <td>4</td>\n",
              "      <td>Apsari Park</td>\n",
              "      <td>Taman</td>\n",
              "      <td>4.6</td>\n",
              "      <td>-7.263635</td>\n",
              "      <td>112.742562</td>\n",
              "    </tr>\n",
              "    <tr>\n",
              "      <th>4</th>\n",
              "      <td>5</td>\n",
              "      <td>Arca Joko Dolog</td>\n",
              "      <td>Bangunan Bersejarah</td>\n",
              "      <td>4.6</td>\n",
              "      <td>-7.264916</td>\n",
              "      <td>112.742777</td>\n",
              "    </tr>\n",
              "    <tr>\n",
              "      <th>...</th>\n",
              "      <td>...</td>\n",
              "      <td>...</td>\n",
              "      <td>...</td>\n",
              "      <td>...</td>\n",
              "      <td>...</td>\n",
              "      <td>...</td>\n",
              "    </tr>\n",
              "    <tr>\n",
              "      <th>70</th>\n",
              "      <td>71</td>\n",
              "      <td>Taman Persahabatan</td>\n",
              "      <td>Taman bermain</td>\n",
              "      <td>4.6</td>\n",
              "      <td>-7.276744</td>\n",
              "      <td>112.745968</td>\n",
              "    </tr>\n",
              "    <tr>\n",
              "      <th>71</th>\n",
              "      <td>72</td>\n",
              "      <td>Taman Pertanian Terpadu Balas Klumprik</td>\n",
              "      <td>Taman</td>\n",
              "      <td>4.4</td>\n",
              "      <td>-7.329670</td>\n",
              "      <td>112.691251</td>\n",
              "    </tr>\n",
              "    <tr>\n",
              "      <th>72</th>\n",
              "      <td>73</td>\n",
              "      <td>Taman Prestasi Surabaya</td>\n",
              "      <td>Taman Kota</td>\n",
              "      <td>4.6</td>\n",
              "      <td>-7.261472</td>\n",
              "      <td>112.742828</td>\n",
              "    </tr>\n",
              "    <tr>\n",
              "      <th>73</th>\n",
              "      <td>74</td>\n",
              "      <td>Taman Teratai</td>\n",
              "      <td>Taman</td>\n",
              "      <td>4.4</td>\n",
              "      <td>-7.255100</td>\n",
              "      <td>112.755581</td>\n",
              "    </tr>\n",
              "    <tr>\n",
              "      <th>74</th>\n",
              "      <td>75</td>\n",
              "      <td>Unesa Lake</td>\n",
              "      <td>Tujuan Wisata</td>\n",
              "      <td>4.5</td>\n",
              "      <td>-7.301489</td>\n",
              "      <td>112.674925</td>\n",
              "    </tr>\n",
              "  </tbody>\n",
              "</table>\n",
              "<p>75 rows × 6 columns</p>\n",
              "</div>"
            ],
            "text/plain": [
              "    place_id                                    name             category  \\\n",
              "0          1                    4 Brahma Statue Arts               Patung   \n",
              "1          2             Adventure Land Romokalisari        Tujuan Wisata   \n",
              "2          3                    Alun - Alun Surabaya        Tujuan Wisata   \n",
              "3          4                             Apsari Park                Taman   \n",
              "4          5                         Arca Joko Dolog  Bangunan Bersejarah   \n",
              "..       ...                                     ...                  ...   \n",
              "70        71                      Taman Persahabatan        Taman bermain   \n",
              "71        72  Taman Pertanian Terpadu Balas Klumprik                Taman   \n",
              "72        73                 Taman Prestasi Surabaya           Taman Kota   \n",
              "73        74                           Taman Teratai                Taman   \n",
              "74        75                              Unesa Lake        Tujuan Wisata   \n",
              "\n",
              "    rating  latitude   longitude  \n",
              "0      4.3 -7.247284  112.801081  \n",
              "1      4.6 -7.198610  112.664771  \n",
              "2      4.8 -7.263864  112.745306  \n",
              "3      4.6 -7.263635  112.742562  \n",
              "4      4.6 -7.264916  112.742777  \n",
              "..     ...       ...         ...  \n",
              "70     4.6 -7.276744  112.745968  \n",
              "71     4.4 -7.329670  112.691251  \n",
              "72     4.6 -7.261472  112.742828  \n",
              "73     4.4 -7.255100  112.755581  \n",
              "74     4.5 -7.301489  112.674925  \n",
              "\n",
              "[75 rows x 6 columns]"
            ]
          },
          "execution_count": 470,
          "metadata": {},
          "output_type": "execute_result"
        }
      ],
      "source": [
        "place_df"
      ]
    },
    {
      "cell_type": "code",
      "execution_count": 471,
      "metadata": {
        "id": "hxFrKXR1bBJx"
      },
      "outputs": [],
      "source": [
        "# Mengambil sample user\n",
        "user_id = df.user_id.sample(1).iloc[0]\n",
        "place_visited_by_user = df[df.user_id == user_id]"
      ]
    },
    {
      "cell_type": "code",
      "execution_count": 472,
      "metadata": {
        "colab": {
          "base_uri": "https://localhost:8080/",
          "height": 175
        },
        "id": "6Xl1f_AMTbB7",
        "outputId": "6f5e5913-2313-4071-eccd-8d62ca715b3f"
      },
      "outputs": [
        {
          "data": {
            "text/html": [
              "<div>\n",
              "<style scoped>\n",
              "    .dataframe tbody tr th:only-of-type {\n",
              "        vertical-align: middle;\n",
              "    }\n",
              "\n",
              "    .dataframe tbody tr th {\n",
              "        vertical-align: top;\n",
              "    }\n",
              "\n",
              "    .dataframe thead th {\n",
              "        text-align: right;\n",
              "    }\n",
              "</style>\n",
              "<table border=\"1\" class=\"dataframe\">\n",
              "  <thead>\n",
              "    <tr style=\"text-align: right;\">\n",
              "      <th></th>\n",
              "      <th>user_id</th>\n",
              "      <th>place_id</th>\n",
              "      <th>rating</th>\n",
              "    </tr>\n",
              "  </thead>\n",
              "  <tbody>\n",
              "    <tr>\n",
              "      <th>5934</th>\n",
              "      <td>37900</td>\n",
              "      <td>28</td>\n",
              "      <td>5</td>\n",
              "    </tr>\n",
              "    <tr>\n",
              "      <th>5935</th>\n",
              "      <td>37900</td>\n",
              "      <td>44</td>\n",
              "      <td>5</td>\n",
              "    </tr>\n",
              "    <tr>\n",
              "      <th>5936</th>\n",
              "      <td>37900</td>\n",
              "      <td>46</td>\n",
              "      <td>5</td>\n",
              "    </tr>\n",
              "    <tr>\n",
              "      <th>5937</th>\n",
              "      <td>37900</td>\n",
              "      <td>49</td>\n",
              "      <td>5</td>\n",
              "    </tr>\n",
              "    <tr>\n",
              "      <th>5938</th>\n",
              "      <td>37900</td>\n",
              "      <td>50</td>\n",
              "      <td>5</td>\n",
              "    </tr>\n",
              "    <tr>\n",
              "      <th>5939</th>\n",
              "      <td>37900</td>\n",
              "      <td>56</td>\n",
              "      <td>5</td>\n",
              "    </tr>\n",
              "    <tr>\n",
              "      <th>5940</th>\n",
              "      <td>37900</td>\n",
              "      <td>58</td>\n",
              "      <td>5</td>\n",
              "    </tr>\n",
              "    <tr>\n",
              "      <th>5941</th>\n",
              "      <td>37900</td>\n",
              "      <td>62</td>\n",
              "      <td>5</td>\n",
              "    </tr>\n",
              "    <tr>\n",
              "      <th>5942</th>\n",
              "      <td>37900</td>\n",
              "      <td>70</td>\n",
              "      <td>5</td>\n",
              "    </tr>\n",
              "    <tr>\n",
              "      <th>5943</th>\n",
              "      <td>37900</td>\n",
              "      <td>75</td>\n",
              "      <td>4</td>\n",
              "    </tr>\n",
              "  </tbody>\n",
              "</table>\n",
              "</div>"
            ],
            "text/plain": [
              "      user_id  place_id  rating\n",
              "5934    37900        28       5\n",
              "5935    37900        44       5\n",
              "5936    37900        46       5\n",
              "5937    37900        49       5\n",
              "5938    37900        50       5\n",
              "5939    37900        56       5\n",
              "5940    37900        58       5\n",
              "5941    37900        62       5\n",
              "5942    37900        70       5\n",
              "5943    37900        75       4"
            ]
          },
          "execution_count": 472,
          "metadata": {},
          "output_type": "execute_result"
        }
      ],
      "source": [
        "place_visited_by_user"
      ]
    },
    {
      "cell_type": "code",
      "execution_count": 473,
      "metadata": {
        "id": "C2PPCMyIam32"
      },
      "outputs": [],
      "source": [
        "# Membuat data lokasi yang belum dikunjungi user\n",
        "place_not_visited = place_df[~place_df['place_id'].isin(place_visited_by_user.place_id.values)]['place_id']\n",
        "place_not_visited = list(\n",
        "    set(place_not_visited)\n",
        "    .intersection(set(place_to_place_encoded.keys()))\n",
        ")\n",
        "\n",
        "place_not_visited = [[place_to_place_encoded.get(x)] for x in place_not_visited]\n",
        "user_encoder = user_to_user_encoded.get(user_id)\n",
        "user_place_array = np.hstack(\n",
        "    ([[user_encoder]] * len(place_not_visited), place_not_visited)\n",
        ")\n",
        "user_place_array = [user_place_array[:, 0], user_place_array[:, 1]]"
      ]
    },
    {
      "cell_type": "code",
      "execution_count": 474,
      "metadata": {
        "colab": {
          "base_uri": "https://localhost:8080/"
        },
        "id": "DgG-TdD9bPwq",
        "outputId": "646df713-b173-408d-f407-3cfe7cd0db33"
      },
      "outputs": [
        {
          "name": "stdout",
          "output_type": "stream",
          "text": [
            "3/3 [==============================] - 0s 7ms/step\n",
            "Daftar rekomendasi untuk: User 37900\n",
            "============================================= \n",
            "\n",
            "------------------------------------------------------------\n",
            "Tempat dengan rating wisata paling tinggi dari user\n",
            "------------------------------------------------------------\n",
            "Monumen Bambu Runcing : Monumen\n",
            "Ria Beach Kenjeran : Tujuan Wisata\n",
            "Siola Surabaya Museum : Museum\n",
            "Surabaya North Quay : Tujuan Wisata\n",
            "Surabaya Submarine Monument : Monumen\n",
            "\n",
            "------------------------------------------------------------\n",
            "Top 5 place recommendation\n",
            "------------------------------------------------------------\n",
            "1 . Monumen Jalesveva Jayamahe \n",
            "     Monumen , Rating Wisata  4.6 \n",
            "\n",
            "2 . Monumen Tugu Pahlawan dan Museum Sepuluh Nopember Surabaya \n",
            "     Bangunan Bersejarah , Rating Wisata  4.7 \n",
            "\n",
            "3 . Muhammad Cheng Hoo Mosque \n",
            "     Masjid , Rating Wisata  4.7 \n",
            "\n",
            "4 . Museum Kesehatan Dr. Adhyatma, MPH \n",
            "     Museum , Rating Wisata  4.4 \n",
            "\n",
            "5 . Taman Teratai \n",
            "     Taman , Rating Wisata  4.4 \n",
            "\n",
            "=============================================\n"
          ]
        }
      ],
      "source": [
        "# Mengambil top place recommendation\n",
        "ratings = model.predict(user_place_array).flatten()\n",
        "top_ratings_indices = ratings.argsort()[-5:][::-1]\n",
        "recommended_place_ids = [\n",
        "    place_encoded_to_place.get(place_not_visited[x][0]) for x in top_ratings_indices\n",
        "]\n",
        "\n",
        "print('Daftar rekomendasi untuk: {}'.format('User ' + str(user_id)))\n",
        "print('===' * 15,'\\n')\n",
        "print('----' * 15)\n",
        "print('Tempat dengan rating wisata paling tinggi dari user')\n",
        "print('----' * 15)\n",
        "\n",
        "top_place_user = (\n",
        "    place_visited_by_user.sort_values(\n",
        "        by = 'rating',\n",
        "        ascending=False\n",
        "    )\n",
        "    .head(5)\n",
        "    .place_id.values\n",
        ")\n",
        "\n",
        "place_df_rows = place_df[place_df['place_id'].isin(top_place_user)]\n",
        "for row in place_df_rows.itertuples():\n",
        "    print(row.name, ':', row.category)\n",
        "\n",
        "print('')\n",
        "print('----' * 15)\n",
        "print('Top 5 place recommendation')\n",
        "print('----' * 15)\n",
        "\n",
        "recommended_place = place_df[place_df['place_id'].isin(recommended_place_ids)]\n",
        "for row, i in zip(recommended_place.itertuples(), range(1,8)):\n",
        "    print(i,'.', row.name, '\\n    ', row.category, ',', 'Rating Wisata ', row.rating,'\\n')\n",
        "\n",
        "print('==='*15)"
      ]
    },
    {
      "cell_type": "code",
      "execution_count": 475,
      "metadata": {
        "colab": {
          "base_uri": "https://localhost:8080/",
          "height": 269
        },
        "id": "VoGXpbRecs5q",
        "outputId": "51b91a9e-8d9b-4f29-8897-294928886959"
      },
      "outputs": [
        {
          "data": {
            "text/html": [
              "<div>\n",
              "<style scoped>\n",
              "    .dataframe tbody tr th:only-of-type {\n",
              "        vertical-align: middle;\n",
              "    }\n",
              "\n",
              "    .dataframe tbody tr th {\n",
              "        vertical-align: top;\n",
              "    }\n",
              "\n",
              "    .dataframe thead th {\n",
              "        text-align: right;\n",
              "    }\n",
              "</style>\n",
              "<table border=\"1\" class=\"dataframe\">\n",
              "  <thead>\n",
              "    <tr style=\"text-align: right;\">\n",
              "      <th></th>\n",
              "      <th>place_id</th>\n",
              "      <th>name</th>\n",
              "      <th>category</th>\n",
              "      <th>rating</th>\n",
              "      <th>latitude</th>\n",
              "      <th>longitude</th>\n",
              "    </tr>\n",
              "  </thead>\n",
              "  <tbody>\n",
              "    <tr>\n",
              "      <th>28</th>\n",
              "      <td>29</td>\n",
              "      <td>Monumen Jalesveva Jayamahe</td>\n",
              "      <td>Monumen</td>\n",
              "      <td>4.6</td>\n",
              "      <td>-7.195475</td>\n",
              "      <td>112.739521</td>\n",
              "    </tr>\n",
              "    <tr>\n",
              "      <th>29</th>\n",
              "      <td>30</td>\n",
              "      <td>Monumen Tugu Pahlawan dan Museum Sepuluh Nopem...</td>\n",
              "      <td>Bangunan Bersejarah</td>\n",
              "      <td>4.7</td>\n",
              "      <td>-7.245555</td>\n",
              "      <td>112.737863</td>\n",
              "    </tr>\n",
              "    <tr>\n",
              "      <th>30</th>\n",
              "      <td>31</td>\n",
              "      <td>Muhammad Cheng Hoo Mosque</td>\n",
              "      <td>Masjid</td>\n",
              "      <td>4.7</td>\n",
              "      <td>-7.252269</td>\n",
              "      <td>112.746917</td>\n",
              "    </tr>\n",
              "    <tr>\n",
              "      <th>32</th>\n",
              "      <td>33</td>\n",
              "      <td>Museum Kesehatan Dr. Adhyatma, MPH</td>\n",
              "      <td>Museum</td>\n",
              "      <td>4.4</td>\n",
              "      <td>-7.240328</td>\n",
              "      <td>112.731431</td>\n",
              "    </tr>\n",
              "    <tr>\n",
              "      <th>73</th>\n",
              "      <td>74</td>\n",
              "      <td>Taman Teratai</td>\n",
              "      <td>Taman</td>\n",
              "      <td>4.4</td>\n",
              "      <td>-7.255100</td>\n",
              "      <td>112.755581</td>\n",
              "    </tr>\n",
              "  </tbody>\n",
              "</table>\n",
              "</div>"
            ],
            "text/plain": [
              "    place_id                                               name  \\\n",
              "28        29                         Monumen Jalesveva Jayamahe   \n",
              "29        30  Monumen Tugu Pahlawan dan Museum Sepuluh Nopem...   \n",
              "30        31                          Muhammad Cheng Hoo Mosque   \n",
              "32        33                 Museum Kesehatan Dr. Adhyatma, MPH   \n",
              "73        74                                      Taman Teratai   \n",
              "\n",
              "               category  rating  latitude   longitude  \n",
              "28              Monumen     4.6 -7.195475  112.739521  \n",
              "29  Bangunan Bersejarah     4.7 -7.245555  112.737863  \n",
              "30               Masjid     4.7 -7.252269  112.746917  \n",
              "32               Museum     4.4 -7.240328  112.731431  \n",
              "73                Taman     4.4 -7.255100  112.755581  "
            ]
          },
          "execution_count": 475,
          "metadata": {},
          "output_type": "execute_result"
        }
      ],
      "source": [
        "recommended_place"
      ]
    },
    {
      "cell_type": "code",
      "execution_count": 476,
      "metadata": {
        "colab": {
          "base_uri": "https://localhost:8080/",
          "height": 424
        },
        "id": "UanBWM37mfU0",
        "outputId": "360fedbf-9ad4-41d3-b620-dbef5ae25bef"
      },
      "outputs": [
        {
          "data": {
            "text/html": [
              "<div>\n",
              "<style scoped>\n",
              "    .dataframe tbody tr th:only-of-type {\n",
              "        vertical-align: middle;\n",
              "    }\n",
              "\n",
              "    .dataframe tbody tr th {\n",
              "        vertical-align: top;\n",
              "    }\n",
              "\n",
              "    .dataframe thead th {\n",
              "        text-align: right;\n",
              "    }\n",
              "</style>\n",
              "<table border=\"1\" class=\"dataframe\">\n",
              "  <thead>\n",
              "    <tr style=\"text-align: right;\">\n",
              "      <th></th>\n",
              "      <th>nama</th>\n",
              "      <th>latitude</th>\n",
              "      <th>longitude</th>\n",
              "    </tr>\n",
              "  </thead>\n",
              "  <tbody>\n",
              "    <tr>\n",
              "      <th>0</th>\n",
              "      <td>Terminal Purabaya (Bungurasih)</td>\n",
              "      <td>-7.352082</td>\n",
              "      <td>112.724435</td>\n",
              "    </tr>\n",
              "    <tr>\n",
              "      <th>1</th>\n",
              "      <td>Halte Dukuh Menanggal</td>\n",
              "      <td>-7.343490</td>\n",
              "      <td>112.728930</td>\n",
              "    </tr>\n",
              "    <tr>\n",
              "      <th>2</th>\n",
              "      <td>Halte Kerto Menanggal</td>\n",
              "      <td>-7.343523</td>\n",
              "      <td>112.729403</td>\n",
              "    </tr>\n",
              "    <tr>\n",
              "      <th>3</th>\n",
              "      <td>Halte Siwalankerto</td>\n",
              "      <td>-7.337048</td>\n",
              "      <td>112.729054</td>\n",
              "    </tr>\n",
              "    <tr>\n",
              "      <th>4</th>\n",
              "      <td>Halte Taman Pelangi</td>\n",
              "      <td>-7.329158</td>\n",
              "      <td>112.730918</td>\n",
              "    </tr>\n",
              "    <tr>\n",
              "      <th>...</th>\n",
              "      <td>...</td>\n",
              "      <td>...</td>\n",
              "      <td>...</td>\n",
              "    </tr>\n",
              "    <tr>\n",
              "      <th>190</th>\n",
              "      <td>Samsat Tandes 1</td>\n",
              "      <td>-7.259950</td>\n",
              "      <td>112.688720</td>\n",
              "    </tr>\n",
              "    <tr>\n",
              "      <th>191</th>\n",
              "      <td>Samsat Tandes 2</td>\n",
              "      <td>-7.259741</td>\n",
              "      <td>112.688796</td>\n",
              "    </tr>\n",
              "    <tr>\n",
              "      <th>192</th>\n",
              "      <td>Margomulyo 2</td>\n",
              "      <td>-7.237190</td>\n",
              "      <td>112.682900</td>\n",
              "    </tr>\n",
              "    <tr>\n",
              "      <th>193</th>\n",
              "      <td>Margomulyo 1</td>\n",
              "      <td>-7.237180</td>\n",
              "      <td>112.682300</td>\n",
              "    </tr>\n",
              "    <tr>\n",
              "      <th>194</th>\n",
              "      <td>Tambak Oso Wilangun (TOW)</td>\n",
              "      <td>-7.217670</td>\n",
              "      <td>112.654387</td>\n",
              "    </tr>\n",
              "  </tbody>\n",
              "</table>\n",
              "<p>195 rows × 3 columns</p>\n",
              "</div>"
            ],
            "text/plain": [
              "                               nama  latitude   longitude\n",
              "0    Terminal Purabaya (Bungurasih) -7.352082  112.724435\n",
              "1             Halte Dukuh Menanggal -7.343490  112.728930\n",
              "2             Halte Kerto Menanggal -7.343523  112.729403\n",
              "3                Halte Siwalankerto -7.337048  112.729054\n",
              "4               Halte Taman Pelangi -7.329158  112.730918\n",
              "..                              ...       ...         ...\n",
              "190                 Samsat Tandes 1 -7.259950  112.688720\n",
              "191                 Samsat Tandes 2 -7.259741  112.688796\n",
              "192                    Margomulyo 2 -7.237190  112.682900\n",
              "193                    Margomulyo 1 -7.237180  112.682300\n",
              "194       Tambak Oso Wilangun (TOW) -7.217670  112.654387\n",
              "\n",
              "[195 rows x 3 columns]"
            ]
          },
          "execution_count": 476,
          "metadata": {},
          "output_type": "execute_result"
        }
      ],
      "source": [
        "bus_route = pd.read_excel('bus_route_merged.xlsx')\n",
        "bus_route"
      ]
    },
    {
      "cell_type": "code",
      "execution_count": 477,
      "metadata": {
        "id": "EksggzEyueqc"
      },
      "outputs": [],
      "source": [
        "from geopy.distance import geodesic\n",
        "\n",
        "def find_nearest_bus_route(place, bus_route):\n",
        "    min_distance = float('inf')\n",
        "    nearest_bus_route = None\n",
        "\n",
        "    for _, bus_route in bus_route.iterrows():\n",
        "        distance = geodesic((place['latitude'], place['longitude']),\n",
        "                            (bus_route['latitude'], bus_route['longitude'])).kilometers\n",
        "\n",
        "        if distance < min_distance:\n",
        "            min_distance = distance\n",
        "            nearest_bus_route = bus_route\n",
        "\n",
        "    return nearest_bus_route, min_distance"
      ]
    },
    {
      "cell_type": "code",
      "execution_count": 478,
      "metadata": {
        "id": "bJIzfcQKuggE"
      },
      "outputs": [],
      "source": [
        "result_rows = []\n",
        "\n",
        "for _, place in recommended_place.iterrows():\n",
        "    nearest_bus_stop, distance = find_nearest_bus_route(place, bus_route)\n",
        "    result_rows.append({\n",
        "        'place_name': place['name'],\n",
        "        'place_latitude': place['latitude'],\n",
        "        'place_longitude': place['longitude'],\n",
        "        'nearest_bus_stop': nearest_bus_stop['nama'],\n",
        "        'bus_stop_latitude': nearest_bus_stop['latitude'],\n",
        "        'bus_stop_longitude': nearest_bus_stop['longitude'],\n",
        "        'distance_to_nearest_bus_stop': distance\n",
        "    })\n",
        "\n",
        "result_df = pd.DataFrame(result_rows)"
      ]
    },
    {
      "cell_type": "code",
      "execution_count": 479,
      "metadata": {
        "colab": {
          "base_uri": "https://localhost:8080/",
          "height": 480
        },
        "id": "l3IlqsnQvmBY",
        "outputId": "b630f250-b777-4ff5-d6b1-cda8c56e82ed"
      },
      "outputs": [
        {
          "data": {
            "text/html": [
              "<div>\n",
              "<style scoped>\n",
              "    .dataframe tbody tr th:only-of-type {\n",
              "        vertical-align: middle;\n",
              "    }\n",
              "\n",
              "    .dataframe tbody tr th {\n",
              "        vertical-align: top;\n",
              "    }\n",
              "\n",
              "    .dataframe thead th {\n",
              "        text-align: right;\n",
              "    }\n",
              "</style>\n",
              "<table border=\"1\" class=\"dataframe\">\n",
              "  <thead>\n",
              "    <tr style=\"text-align: right;\">\n",
              "      <th></th>\n",
              "      <th>place_name</th>\n",
              "      <th>place_latitude</th>\n",
              "      <th>place_longitude</th>\n",
              "      <th>nearest_bus_stop</th>\n",
              "      <th>bus_stop_latitude</th>\n",
              "      <th>bus_stop_longitude</th>\n",
              "      <th>distance_to_nearest_bus_stop</th>\n",
              "    </tr>\n",
              "  </thead>\n",
              "  <tbody>\n",
              "    <tr>\n",
              "      <th>0</th>\n",
              "      <td>Monumen Jalesveva Jayamahe</td>\n",
              "      <td>-7.195475</td>\n",
              "      <td>112.739521</td>\n",
              "      <td>Halte Rajawali</td>\n",
              "      <td>-7.234562</td>\n",
              "      <td>112.732036</td>\n",
              "      <td>4.401051</td>\n",
              "    </tr>\n",
              "    <tr>\n",
              "      <th>1</th>\n",
              "      <td>Monumen Tugu Pahlawan dan Museum Sepuluh Nopem...</td>\n",
              "      <td>-7.245555</td>\n",
              "      <td>112.737863</td>\n",
              "      <td>Halte Pasar Turi</td>\n",
              "      <td>-7.246075</td>\n",
              "      <td>112.736937</td>\n",
              "      <td>0.117296</td>\n",
              "    </tr>\n",
              "    <tr>\n",
              "      <th>2</th>\n",
              "      <td>Muhammad Cheng Hoo Mosque</td>\n",
              "      <td>-7.252269</td>\n",
              "      <td>112.746917</td>\n",
              "      <td>Halte Sono Kembang</td>\n",
              "      <td>-7.260928</td>\n",
              "      <td>112.747773</td>\n",
              "      <td>0.962351</td>\n",
              "    </tr>\n",
              "    <tr>\n",
              "      <th>3</th>\n",
              "      <td>Museum Kesehatan Dr. Adhyatma, MPH</td>\n",
              "      <td>-7.240328</td>\n",
              "      <td>112.731431</td>\n",
              "      <td>Halte Indrapura</td>\n",
              "      <td>-7.240784</td>\n",
              "      <td>112.732080</td>\n",
              "      <td>0.087638</td>\n",
              "    </tr>\n",
              "    <tr>\n",
              "      <th>4</th>\n",
              "      <td>Taman Teratai</td>\n",
              "      <td>-7.255100</td>\n",
              "      <td>112.755581</td>\n",
              "      <td>Halte Balai Kota</td>\n",
              "      <td>-7.262966</td>\n",
              "      <td>112.750419</td>\n",
              "      <td>1.040149</td>\n",
              "    </tr>\n",
              "  </tbody>\n",
              "</table>\n",
              "</div>"
            ],
            "text/plain": [
              "                                          place_name  place_latitude  \\\n",
              "0                         Monumen Jalesveva Jayamahe       -7.195475   \n",
              "1  Monumen Tugu Pahlawan dan Museum Sepuluh Nopem...       -7.245555   \n",
              "2                          Muhammad Cheng Hoo Mosque       -7.252269   \n",
              "3                 Museum Kesehatan Dr. Adhyatma, MPH       -7.240328   \n",
              "4                                      Taman Teratai       -7.255100   \n",
              "\n",
              "   place_longitude    nearest_bus_stop  bus_stop_latitude  bus_stop_longitude  \\\n",
              "0       112.739521      Halte Rajawali          -7.234562          112.732036   \n",
              "1       112.737863    Halte Pasar Turi          -7.246075          112.736937   \n",
              "2       112.746917  Halte Sono Kembang          -7.260928          112.747773   \n",
              "3       112.731431     Halte Indrapura          -7.240784          112.732080   \n",
              "4       112.755581    Halte Balai Kota          -7.262966          112.750419   \n",
              "\n",
              "   distance_to_nearest_bus_stop  \n",
              "0                      4.401051  \n",
              "1                      0.117296  \n",
              "2                      0.962351  \n",
              "3                      0.087638  \n",
              "4                      1.040149  "
            ]
          },
          "execution_count": 479,
          "metadata": {},
          "output_type": "execute_result"
        }
      ],
      "source": [
        "result_df"
      ]
    },
    {
      "cell_type": "code",
      "execution_count": 480,
      "metadata": {
        "colab": {
          "base_uri": "https://localhost:8080/",
          "height": 269
        },
        "id": "ILhzejmWv3p1",
        "outputId": "ddf0ba09-2964-4e3e-bba1-5c70fd8dac9a"
      },
      "outputs": [
        {
          "data": {
            "text/html": [
              "<div>\n",
              "<style scoped>\n",
              "    .dataframe tbody tr th:only-of-type {\n",
              "        vertical-align: middle;\n",
              "    }\n",
              "\n",
              "    .dataframe tbody tr th {\n",
              "        vertical-align: top;\n",
              "    }\n",
              "\n",
              "    .dataframe thead th {\n",
              "        text-align: right;\n",
              "    }\n",
              "</style>\n",
              "<table border=\"1\" class=\"dataframe\">\n",
              "  <thead>\n",
              "    <tr style=\"text-align: right;\">\n",
              "      <th></th>\n",
              "      <th>place_name</th>\n",
              "      <th>place_latitude</th>\n",
              "      <th>place_longitude</th>\n",
              "    </tr>\n",
              "  </thead>\n",
              "  <tbody>\n",
              "    <tr>\n",
              "      <th>0</th>\n",
              "      <td>Monumen Jalesveva Jayamahe</td>\n",
              "      <td>-7.195475</td>\n",
              "      <td>112.739521</td>\n",
              "    </tr>\n",
              "    <tr>\n",
              "      <th>1</th>\n",
              "      <td>Monumen Tugu Pahlawan dan Museum Sepuluh Nopem...</td>\n",
              "      <td>-7.245555</td>\n",
              "      <td>112.737863</td>\n",
              "    </tr>\n",
              "    <tr>\n",
              "      <th>2</th>\n",
              "      <td>Muhammad Cheng Hoo Mosque</td>\n",
              "      <td>-7.252269</td>\n",
              "      <td>112.746917</td>\n",
              "    </tr>\n",
              "    <tr>\n",
              "      <th>3</th>\n",
              "      <td>Museum Kesehatan Dr. Adhyatma, MPH</td>\n",
              "      <td>-7.240328</td>\n",
              "      <td>112.731431</td>\n",
              "    </tr>\n",
              "    <tr>\n",
              "      <th>4</th>\n",
              "      <td>Taman Teratai</td>\n",
              "      <td>-7.255100</td>\n",
              "      <td>112.755581</td>\n",
              "    </tr>\n",
              "  </tbody>\n",
              "</table>\n",
              "</div>"
            ],
            "text/plain": [
              "                                          place_name  place_latitude  \\\n",
              "0                         Monumen Jalesveva Jayamahe       -7.195475   \n",
              "1  Monumen Tugu Pahlawan dan Museum Sepuluh Nopem...       -7.245555   \n",
              "2                          Muhammad Cheng Hoo Mosque       -7.252269   \n",
              "3                 Museum Kesehatan Dr. Adhyatma, MPH       -7.240328   \n",
              "4                                      Taman Teratai       -7.255100   \n",
              "\n",
              "   place_longitude  \n",
              "0       112.739521  \n",
              "1       112.737863  \n",
              "2       112.746917  \n",
              "3       112.731431  \n",
              "4       112.755581  "
            ]
          },
          "execution_count": 480,
          "metadata": {},
          "output_type": "execute_result"
        }
      ],
      "source": [
        "recommended_tourist_attraction = result_df[['place_name', 'place_latitude','place_longitude']]\n",
        "recommended_tourist_attraction"
      ]
    },
    {
      "cell_type": "code",
      "execution_count": 481,
      "metadata": {
        "colab": {
          "base_uri": "https://localhost:8080/",
          "height": 269
        },
        "id": "C-bBrRyKwQtE",
        "outputId": "f3a82a44-cca2-4523-c4aa-54e26482c195"
      },
      "outputs": [
        {
          "data": {
            "text/html": [
              "<div>\n",
              "<style scoped>\n",
              "    .dataframe tbody tr th:only-of-type {\n",
              "        vertical-align: middle;\n",
              "    }\n",
              "\n",
              "    .dataframe tbody tr th {\n",
              "        vertical-align: top;\n",
              "    }\n",
              "\n",
              "    .dataframe thead th {\n",
              "        text-align: right;\n",
              "    }\n",
              "</style>\n",
              "<table border=\"1\" class=\"dataframe\">\n",
              "  <thead>\n",
              "    <tr style=\"text-align: right;\">\n",
              "      <th></th>\n",
              "      <th>nearest_bus_stop</th>\n",
              "      <th>bus_stop_latitude</th>\n",
              "      <th>bus_stop_longitude</th>\n",
              "    </tr>\n",
              "  </thead>\n",
              "  <tbody>\n",
              "    <tr>\n",
              "      <th>0</th>\n",
              "      <td>Halte Rajawali</td>\n",
              "      <td>-7.234562</td>\n",
              "      <td>112.732036</td>\n",
              "    </tr>\n",
              "    <tr>\n",
              "      <th>1</th>\n",
              "      <td>Halte Pasar Turi</td>\n",
              "      <td>-7.246075</td>\n",
              "      <td>112.736937</td>\n",
              "    </tr>\n",
              "    <tr>\n",
              "      <th>2</th>\n",
              "      <td>Halte Sono Kembang</td>\n",
              "      <td>-7.260928</td>\n",
              "      <td>112.747773</td>\n",
              "    </tr>\n",
              "    <tr>\n",
              "      <th>3</th>\n",
              "      <td>Halte Indrapura</td>\n",
              "      <td>-7.240784</td>\n",
              "      <td>112.732080</td>\n",
              "    </tr>\n",
              "    <tr>\n",
              "      <th>4</th>\n",
              "      <td>Halte Balai Kota</td>\n",
              "      <td>-7.262966</td>\n",
              "      <td>112.750419</td>\n",
              "    </tr>\n",
              "  </tbody>\n",
              "</table>\n",
              "</div>"
            ],
            "text/plain": [
              "     nearest_bus_stop  bus_stop_latitude  bus_stop_longitude\n",
              "0      Halte Rajawali          -7.234562          112.732036\n",
              "1    Halte Pasar Turi          -7.246075          112.736937\n",
              "2  Halte Sono Kembang          -7.260928          112.747773\n",
              "3     Halte Indrapura          -7.240784          112.732080\n",
              "4    Halte Balai Kota          -7.262966          112.750419"
            ]
          },
          "execution_count": 481,
          "metadata": {},
          "output_type": "execute_result"
        }
      ],
      "source": [
        "recommended_bus_route = result_df[['nearest_bus_stop', 'bus_stop_latitude', 'bus_stop_longitude']]\n",
        "recommended_bus_route"
      ]
    }
  ],
  "metadata": {
    "accelerator": "GPU",
    "colab": {
      "gpuType": "T4",
      "provenance": []
    },
    "kernelspec": {
      "display_name": "Python 3",
      "name": "python3"
    },
    "language_info": {
      "codemirror_mode": {
        "name": "ipython",
        "version": 3
      },
      "file_extension": ".py",
      "mimetype": "text/x-python",
      "name": "python",
      "nbconvert_exporter": "python",
      "pygments_lexer": "ipython3",
      "version": "3.9.2"
    }
  },
  "nbformat": 4,
  "nbformat_minor": 0
}
